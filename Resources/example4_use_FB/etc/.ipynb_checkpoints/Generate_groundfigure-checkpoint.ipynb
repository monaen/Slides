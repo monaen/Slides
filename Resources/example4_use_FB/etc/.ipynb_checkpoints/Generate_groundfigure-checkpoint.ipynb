{
 "metadata": {
  "name": ""
 },
 "nbformat": 3,
 "nbformat_minor": 0,
 "worksheets": [
  {
   "cells": [
    {
     "cell_type": "code",
     "collapsed": false,
     "input": [
      "import Image, ImageDraw\n",
      "import PIL\n",
      "from PIL import Image\n",
      "import csv\n",
      "\n",
      "\n",
      "image = Image.open(\"resize_earth.jpg\")\n",
      "\n",
      "draw = ImageDraw.Draw(image)\n"
     ],
     "language": "python",
     "metadata": {},
     "outputs": [],
     "prompt_number": 39
    },
    {
     "cell_type": "code",
     "collapsed": false,
     "input": [
      "## resize the image\n",
      "if image.size != (4096, 2048):\n",
      "    img = image.resize((4096, 2048), PIL.Image.ANTIALIAS)\n",
      "    img.save('resize_earth.jpg')"
     ],
     "language": "python",
     "metadata": {},
     "outputs": [],
     "prompt_number": 40
    },
    {
     "cell_type": "code",
     "collapsed": false,
     "input": [
      "flights = [\n",
      "# include data from flight_one.js here\n",
      "]\n",
      "with open('migrate_FB.csv', 'rb') as f:\n",
      "    reader = csv.reader(f)\n",
      "    i = 0\n",
      "    for row in reader:\n",
      "        if (i != 0):\n",
      "            flights.append([float(item) for item in row])\n",
      "        i = i + 1"
     ],
     "language": "python",
     "metadata": {},
     "outputs": [],
     "prompt_number": 26
    },
    {
     "cell_type": "code",
     "collapsed": false,
     "input": [
      "len(flights)"
     ],
     "language": "python",
     "metadata": {},
     "outputs": [
      {
       "metadata": {},
       "output_type": "pyout",
       "prompt_number": 34,
       "text": [
        "120211"
       ]
      }
     ],
     "prompt_number": 34
    },
    {
     "cell_type": "code",
     "collapsed": false,
     "input": [
      "\n",
      "r = 1\n",
      "for i in range(len(flights)):\n",
      "    x = ((flights[i][1] + 180.0)/360.0)*4096\n",
      "    y = 2048 - ((flights[i][0] + 90.0)/180.0)*2048\n",
      "    draw.ellipse((x-r, y-r, x+r, y+r), fill=(255,255,0))\n",
      "\n",
      "    x = ((flights[i][3] + 180.0)/360.0)*4096\n",
      "    y = 2048 - ((flights[i][2] + 90.0)/180.0)*2048\n",
      "    draw.ellipse((x-r, y-r, x+r, y+r), fill=(255,255,0))\n",
      "\n",
      "#image.show()\n",
      "image.save(\"../images/migration_FB.png\", \"PNG\")"
     ],
     "language": "python",
     "metadata": {},
     "outputs": [],
     "prompt_number": 41
    }
   ],
   "metadata": {}
  }
 ]
}